{
 "cells": [
  {
   "cell_type": "markdown",
   "id": "5781e42e-6db3-496d-8746-13dc9b71c455",
   "metadata": {},
   "source": [
    "### Lunar Lander Environment\n",
    "Observation Space: 8-dimensional vector: the coordinates of the lander, its linear velocities, its angle, angular velocity, and bools representing whether each leg is touching the ground  \n",
    "[x, y, vx, vy, angle, angle_vel, left_leg_on_ground, right_leg_on_ground]  \n",
    "Action Space: 4 Discrete actions: do nothin, fire left orinetation engine, fire main engine, fire right orientation engine.\n",
    "\n"
   ]
  },
  {
   "cell_type": "markdown",
   "id": "7582666d-bf8d-4c9f-9b0c-89e9546ae704",
   "metadata": {},
   "source": [
    "### Theory\n",
    "V(s) = max(Q(s,a)  \n",
    "Q(s,a) = R(s,a) + gV(s')  \n",
    "p(s) = max Q(s, a)"
   ]
  },
  {
   "cell_type": "code",
   "execution_count": 7,
   "id": "6593d1b2-b2b7-4c93-b5e5-72b45dc88dd1",
   "metadata": {},
   "outputs": [],
   "source": [
    "import gym"
   ]
  },
  {
   "cell_type": "markdown",
   "id": "55c0764c-ade3-4bf1-aa0d-49798c33f26c",
   "metadata": {},
   "source": [
    "### Imports\n"
   ]
  },
  {
   "cell_type": "code",
   "execution_count": 62,
   "id": "eba427c7-fb73-4677-a47b-3a4a4bc7abb7",
   "metadata": {},
   "outputs": [],
   "source": [
    "import numpy as np\n",
    "import gym\n",
    "import tensorflow as tf\n",
    "from tensorflow import keras\n",
    "from tensorflow.keras import layers\n",
    "import sys"
   ]
  },
  {
   "cell_type": "code",
   "execution_count": 87,
   "id": "c77a01fe-c282-4eb3-a793-9f7761ac84c3",
   "metadata": {},
   "outputs": [],
   "source": [
    "class LLAgent:\n",
    "    \"\"\"A learning Agent for the Lunar Landar environment\"\"\"\n",
    "    \n",
    "    def __init__(self, env = gym.make(\"LunarLander-v2\")):\n",
    "        \"\"\"\n",
    "        Create a new LLAgent. Initialize the q_network and the target_q_network\n",
    "        \n",
    "        Params:\n",
    "        env:\n",
    "            the environment that the agent will learn from\n",
    "        \"\"\"\n",
    "        \n",
    "        self.env = env\n",
    "        self.q_function_input_size = env.observation_space.shape[0] + 1\n",
    "        self.q_function_output_size = 0\n",
    "        \n",
    "        self.q_function = self.get_q_function(self.q_function_input_size,\n",
    "                                              self.q_function_output_size)\n",
    "        self.q_target_function = self.get_q_function(self.q_function_input_size,\n",
    "                                              self.q_function_output_size)\n",
    "        \n",
    "        \n",
    "        \n",
    "    \n",
    "    def get_optimum_action(self, state: np.ndarray, q_function: keras.Model) -> int:\n",
    "        \"\"\"\n",
    "        Return an optimal action based on the state\n",
    "        \n",
    "        Params:\n",
    "        state: np.ndarray\n",
    "            the numpy array representing the state for wchich an optimal action is needed\n",
    "        q_function: keras.Model\n",
    "            the model that will be used to predict the reward of each action\n",
    "        \"\"\"\n",
    "        states_actions = np.array([np.append(state, [i]) for i in range(4)])\n",
    "        print(q_function.predict(states_actions))\n",
    "        return np.argmax(q_function.predict(states_actions))\n",
    "        \n",
    "    \n",
    "    def train(history):\n",
    "        \"\"\"\n",
    "        Based on new history data, train the model\n",
    "        \"\"\"\n",
    "    \n",
    "    # HELPER METHODS\n",
    "    def get_q_function(self, \n",
    "                         input_size: tuple, \n",
    "                         output_size: tuple,\n",
    "                         num_layers: int = 3,\n",
    "                         layer_sizes: list[int] = [64, 32, 16],\n",
    "                         activation: str = \"relu\") -> keras.Model:\n",
    "        \"\"\"\n",
    "        Create a neural net to represent the q-function\n",
    "        \n",
    "        Params:\n",
    "        input_size: tuple\n",
    "            the size/dimensions of the function input (should be the shape of the observation space)\n",
    "        output_size: tuple\n",
    "            the size/dimensions of the function output (should be the shape of the action space)\n",
    "        num_layers: int\n",
    "            the number of hidden layers in the neural network\n",
    "        layer_sizes: list[int]\n",
    "            the sizes of each hidden layer: [hidden layer 1 size, hiddden layer 2 size...hidden layer -num-layyers- size]\n",
    "        activation: str\n",
    "            the activation function of the neural network\n",
    "        \"\"\"\n",
    "        # Assertions\n",
    "        assert num_layers == len(layer_sizes), f\"Number of layers must be the same as the length of layer sizes: num: {num_layers} != sizes: {len(layer_sizes)}\"\n",
    "        \n",
    "        # Build Neural Net\n",
    "        inputs = layers.Input(shape=input_size) \n",
    "        layer = inputs\n",
    "        for layer_num in range(len(layer_sizes)):\n",
    "            layer = layers.Dense(layer_sizes[layer_num], activation = \"relu\")(layer)\n",
    "        output = layers.Dense(output_size, activation = \"sigmoid\")(layer)\n",
    "        \n",
    "        model = keras.Model(inputs = inputs, outputs = output)\n",
    "        model.summary()\n",
    "        return model\n",
    "        \n",
    "        \n",
    "        \n",
    "    \n",
    "        "
   ]
  },
  {
   "cell_type": "code",
   "execution_count": 88,
   "id": "5c07a3e5-3b4a-4198-8ca8-4f3eaa674083",
   "metadata": {},
   "outputs": [
    {
     "name": "stdout",
     "output_type": "stream",
     "text": [
      "Model: \"model_14\"\n",
      "_________________________________________________________________\n",
      " Layer (type)                Output Shape              Param #   \n",
      "=================================================================\n",
      " input_15 (InputLayer)       [(None, 9)]               0         \n",
      "                                                                 \n",
      " dense_56 (Dense)            (None, 64)                640       \n",
      "                                                                 \n",
      " dense_57 (Dense)            (None, 32)                2080      \n",
      "                                                                 \n",
      " dense_58 (Dense)            (None, 16)                528       \n",
      "                                                                 \n",
      " dense_59 (Dense)            (None, 0)                 0         \n",
      "                                                                 \n",
      "=================================================================\n",
      "Total params: 3,248\n",
      "Trainable params: 3,248\n",
      "Non-trainable params: 0\n",
      "_________________________________________________________________\n",
      "Model: \"model_15\"\n",
      "_________________________________________________________________\n",
      " Layer (type)                Output Shape              Param #   \n",
      "=================================================================\n",
      " input_16 (InputLayer)       [(None, 9)]               0         \n",
      "                                                                 \n",
      " dense_60 (Dense)            (None, 64)                640       \n",
      "                                                                 \n",
      " dense_61 (Dense)            (None, 32)                2080      \n",
      "                                                                 \n",
      " dense_62 (Dense)            (None, 16)                528       \n",
      "                                                                 \n",
      " dense_63 (Dense)            (None, 0)                 0         \n",
      "                                                                 \n",
      "=================================================================\n",
      "Total params: 3,248\n",
      "Trainable params: 3,248\n",
      "Non-trainable params: 0\n",
      "_________________________________________________________________\n",
      "1/1 [==============================] - 0s 37ms/step\n",
      "[]\n",
      "1/1 [==============================] - 0s 13ms/step\n"
     ]
    },
    {
     "ename": "ValueError",
     "evalue": "attempt to get argmax of an empty sequence",
     "output_type": "error",
     "traceback": [
      "\u001b[1;31m---------------------------------------------------------------------------\u001b[0m",
      "\u001b[1;31mValueError\u001b[0m                                Traceback (most recent call last)",
      "Cell \u001b[1;32mIn [88], line 2\u001b[0m\n\u001b[0;32m      1\u001b[0m a \u001b[38;5;241m=\u001b[39m LLAgent()\n\u001b[1;32m----> 2\u001b[0m a\u001b[38;5;241m.\u001b[39mget_optimum_action(np\u001b[38;5;241m.\u001b[39marray([\u001b[38;5;241m0\u001b[39m, \u001b[38;5;241m0\u001b[39m, \u001b[38;5;241m0\u001b[39m, \u001b[38;5;241m0\u001b[39m, \u001b[38;5;241m0\u001b[39m, \u001b[38;5;241m0\u001b[39m, \u001b[38;5;241m0\u001b[39m, \u001b[38;5;241m0\u001b[39m]), a\u001b[38;5;241m.\u001b[39mq_function)\n",
      "Cell \u001b[1;32mIn [87], line 37\u001b[0m, in \u001b[0;36mLLAgent.get_optimum_action\u001b[1;34m(self, state, q_function)\u001b[0m\n\u001b[0;32m     35\u001b[0m states_actions \u001b[38;5;241m=\u001b[39m np\u001b[38;5;241m.\u001b[39marray([np\u001b[38;5;241m.\u001b[39mappend(state, [i]) \u001b[38;5;28;01mfor\u001b[39;00m i \u001b[38;5;129;01min\u001b[39;00m \u001b[38;5;28mrange\u001b[39m(\u001b[38;5;241m4\u001b[39m)])\n\u001b[0;32m     36\u001b[0m \u001b[38;5;28mprint\u001b[39m(q_function\u001b[38;5;241m.\u001b[39mpredict(states_actions))\n\u001b[1;32m---> 37\u001b[0m \u001b[38;5;28;01mreturn\u001b[39;00m \u001b[43mnp\u001b[49m\u001b[38;5;241;43m.\u001b[39;49m\u001b[43margmax\u001b[49m\u001b[43m(\u001b[49m\u001b[43mq_function\u001b[49m\u001b[38;5;241;43m.\u001b[39;49m\u001b[43mpredict\u001b[49m\u001b[43m(\u001b[49m\u001b[43mstates_actions\u001b[49m\u001b[43m)\u001b[49m\u001b[43m)\u001b[49m\n",
      "File \u001b[1;32m<__array_function__ internals>:180\u001b[0m, in \u001b[0;36margmax\u001b[1;34m(*args, **kwargs)\u001b[0m\n",
      "File \u001b[1;32m~\\AppData\\Local\\Packages\\PythonSoftwareFoundation.Python.3.10_qbz5n2kfra8p0\\LocalCache\\local-packages\\Python310\\site-packages\\numpy\\core\\fromnumeric.py:1216\u001b[0m, in \u001b[0;36margmax\u001b[1;34m(a, axis, out, keepdims)\u001b[0m\n\u001b[0;32m   1129\u001b[0m \u001b[38;5;124;03m\"\"\"\u001b[39;00m\n\u001b[0;32m   1130\u001b[0m \u001b[38;5;124;03mReturns the indices of the maximum values along an axis.\u001b[39;00m\n\u001b[0;32m   1131\u001b[0m \n\u001b[1;32m   (...)\u001b[0m\n\u001b[0;32m   1213\u001b[0m \u001b[38;5;124;03m(2, 1, 4)\u001b[39;00m\n\u001b[0;32m   1214\u001b[0m \u001b[38;5;124;03m\"\"\"\u001b[39;00m\n\u001b[0;32m   1215\u001b[0m kwds \u001b[38;5;241m=\u001b[39m {\u001b[38;5;124m'\u001b[39m\u001b[38;5;124mkeepdims\u001b[39m\u001b[38;5;124m'\u001b[39m: keepdims} \u001b[38;5;28;01mif\u001b[39;00m keepdims \u001b[38;5;129;01mis\u001b[39;00m \u001b[38;5;129;01mnot\u001b[39;00m np\u001b[38;5;241m.\u001b[39m_NoValue \u001b[38;5;28;01melse\u001b[39;00m {}\n\u001b[1;32m-> 1216\u001b[0m \u001b[38;5;28;01mreturn\u001b[39;00m _wrapfunc(a, \u001b[38;5;124m'\u001b[39m\u001b[38;5;124margmax\u001b[39m\u001b[38;5;124m'\u001b[39m, axis\u001b[38;5;241m=\u001b[39maxis, out\u001b[38;5;241m=\u001b[39mout, \u001b[38;5;241m*\u001b[39m\u001b[38;5;241m*\u001b[39mkwds)\n",
      "File \u001b[1;32m~\\AppData\\Local\\Packages\\PythonSoftwareFoundation.Python.3.10_qbz5n2kfra8p0\\LocalCache\\local-packages\\Python310\\site-packages\\numpy\\core\\fromnumeric.py:57\u001b[0m, in \u001b[0;36m_wrapfunc\u001b[1;34m(obj, method, *args, **kwds)\u001b[0m\n\u001b[0;32m     54\u001b[0m     \u001b[38;5;28;01mreturn\u001b[39;00m _wrapit(obj, method, \u001b[38;5;241m*\u001b[39margs, \u001b[38;5;241m*\u001b[39m\u001b[38;5;241m*\u001b[39mkwds)\n\u001b[0;32m     56\u001b[0m \u001b[38;5;28;01mtry\u001b[39;00m:\n\u001b[1;32m---> 57\u001b[0m     \u001b[38;5;28;01mreturn\u001b[39;00m bound(\u001b[38;5;241m*\u001b[39margs, \u001b[38;5;241m*\u001b[39m\u001b[38;5;241m*\u001b[39mkwds)\n\u001b[0;32m     58\u001b[0m \u001b[38;5;28;01mexcept\u001b[39;00m \u001b[38;5;167;01mTypeError\u001b[39;00m:\n\u001b[0;32m     59\u001b[0m     \u001b[38;5;66;03m# A TypeError occurs if the object does have such a method in its\u001b[39;00m\n\u001b[0;32m     60\u001b[0m     \u001b[38;5;66;03m# class, but its signature is not identical to that of NumPy's. This\u001b[39;00m\n\u001b[1;32m   (...)\u001b[0m\n\u001b[0;32m     64\u001b[0m     \u001b[38;5;66;03m# Call _wrapit from within the except clause to ensure a potential\u001b[39;00m\n\u001b[0;32m     65\u001b[0m     \u001b[38;5;66;03m# exception has a traceback chain.\u001b[39;00m\n\u001b[0;32m     66\u001b[0m     \u001b[38;5;28;01mreturn\u001b[39;00m _wrapit(obj, method, \u001b[38;5;241m*\u001b[39margs, \u001b[38;5;241m*\u001b[39m\u001b[38;5;241m*\u001b[39mkwds)\n",
      "\u001b[1;31mValueError\u001b[0m: attempt to get argmax of an empty sequence"
     ]
    }
   ],
   "source": [
    "a = LLAgent()\n",
    "a.get_optimum_action(np.array([0, 0, 0, 0, 0, 0, 0, 0]), a.q_function)"
   ]
  },
  {
   "cell_type": "code",
   "execution_count": 11,
   "id": "b66f4863-dbd7-498f-aac2-a23abed81d78",
   "metadata": {},
   "outputs": [
    {
     "data": {
      "text/plain": [
       "(array([ 4.9562455e-04,  1.4062922e+00,  5.0182693e-02, -2.0568186e-01,\n",
       "        -5.6747103e-04, -1.1367132e-02,  0.0000000e+00,  0.0000000e+00],\n",
       "       dtype=float32),\n",
       " {})"
      ]
     },
     "execution_count": 11,
     "metadata": {},
     "output_type": "execute_result"
    }
   ],
   "source": [
    "env = gym.make(\"LunarLander-v2\")\n",
    "env.reset()"
   ]
  },
  {
   "cell_type": "code",
   "execution_count": 69,
   "id": "ce9b683f-a39d-4af3-896a-9255c0f64ce4",
   "metadata": {},
   "outputs": [
    {
     "data": {
      "text/plain": [
       "False"
      ]
     },
     "execution_count": 69,
     "metadata": {},
     "output_type": "execute_result"
    }
   ],
   "source": [
    "env.action_space.contains(4)\n"
   ]
  },
  {
   "cell_type": "code",
   "execution_count": 43,
   "id": "44fdb9b2-f020-45de-a737-947a8eb97292",
   "metadata": {},
   "outputs": [
    {
     "data": {
      "text/plain": [
       "False"
      ]
     },
     "execution_count": 43,
     "metadata": {},
     "output_type": "execute_result"
    }
   ],
   "source": [
    "a"
   ]
  },
  {
   "cell_type": "code",
   "execution_count": 75,
   "id": "744d08fd-f4d5-44f8-8a1e-652549a60347",
   "metadata": {},
   "outputs": [
    {
     "data": {
      "text/plain": [
       "array([[1, 1, 1, 0],\n",
       "       [1, 1, 1, 1],\n",
       "       [1, 1, 1, 2],\n",
       "       [1, 1, 1, 3]])"
      ]
     },
     "execution_count": 75,
     "metadata": {},
     "output_type": "execute_result"
    }
   ],
   "source": [
    "state = np.array([1, 1, 1])\n",
    "np.array([np.append(state, [i]) for i in range(4)])"
   ]
  },
  {
   "cell_type": "code",
   "execution_count": 73,
   "id": "79282a27-c18d-4235-865c-d5f3c20577a8",
   "metadata": {},
   "outputs": [
    {
     "data": {
      "text/plain": [
       "array([3, 3, 3])"
      ]
     },
     "execution_count": 73,
     "metadata": {},
     "output_type": "execute_result"
    }
   ],
   "source": [
    "state.a"
   ]
  },
  {
   "cell_type": "code",
   "execution_count": 77,
   "id": "2f94334c-9c1a-4ae8-9cf7-a0e7ee425a53",
   "metadata": {},
   "outputs": [
    {
     "data": {
      "text/plain": [
       "numpy.ndarray"
      ]
     },
     "execution_count": 77,
     "metadata": {},
     "output_type": "execute_result"
    }
   ],
   "source": [
    "type(state)"
   ]
  },
  {
   "cell_type": "code",
   "execution_count": null,
   "id": "623cb0ed-fc16-44c9-b786-7ecec4c3d312",
   "metadata": {},
   "outputs": [],
   "source": []
  }
 ],
 "metadata": {
  "kernelspec": {
   "display_name": "Python 3 (ipykernel)",
   "language": "python",
   "name": "python3"
  },
  "language_info": {
   "codemirror_mode": {
    "name": "ipython",
    "version": 3
   },
   "file_extension": ".py",
   "mimetype": "text/x-python",
   "name": "python",
   "nbconvert_exporter": "python",
   "pygments_lexer": "ipython3",
   "version": "3.10.8"
  }
 },
 "nbformat": 4,
 "nbformat_minor": 5
}
