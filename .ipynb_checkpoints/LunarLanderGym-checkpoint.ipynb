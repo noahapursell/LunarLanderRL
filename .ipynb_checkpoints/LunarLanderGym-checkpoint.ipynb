{
 "cells": [
  {
   "cell_type": "markdown",
   "id": "5781e42e-6db3-496d-8746-13dc9b71c455",
   "metadata": {},
   "source": [
    "### Lunar Lander Environment\n",
    "Observation Space: 8-dimensional vector: the coordinates of the lander, its linear velocities, its angle, angular velocity, and bools representing whether each leg is touching the ground  \n",
    "[x, y, vx, vy, angle, angle_vel, left_leg_on_ground, right_leg_on_ground]  \n",
    "Action Space: 4 Discrete actions: do nothin, fire left orinetation engine, fire main engine, fire right orientation engine.\n",
    "\n"
   ]
  },
  {
   "cell_type": "markdown",
   "id": "7582666d-bf8d-4c9f-9b0c-89e9546ae704",
   "metadata": {},
   "source": [
    "### Theory\n",
    "V(s) = max(Q(s,a)  \n",
    "Q(s,a) = R(s,a) + gV(s')  \n",
    "p(s) = max Q(s, a)"
   ]
  },
  {
   "cell_type": "code",
   "execution_count": 7,
   "id": "6593d1b2-b2b7-4c93-b5e5-72b45dc88dd1",
   "metadata": {},
   "outputs": [],
   "source": [
    "import gym"
   ]
  },
  {
   "cell_type": "markdown",
   "id": "55c0764c-ade3-4bf1-aa0d-49798c33f26c",
   "metadata": {},
   "source": [
    "### Imports\n"
   ]
  },
  {
   "cell_type": "code",
   "execution_count": 19,
   "id": "eba427c7-fb73-4677-a47b-3a4a4bc7abb7",
   "metadata": {},
   "outputs": [],
   "source": [
    "import numpy as np\n",
    "import gym\n",
    "import tensorflow as tf\n",
    "from tensorflow import keras\n",
    "from tensorflow.keras import layers"
   ]
  },
  {
   "cell_type": "code",
   "execution_count": 36,
   "id": "c77a01fe-c282-4eb3-a793-9f7761ac84c3",
   "metadata": {},
   "outputs": [],
   "source": [
    "class LLAgent:\n",
    "    \"\"\"A learning Agent for the Lunar Landar environment\"\"\"\n",
    "    \n",
    "    def __init__(self):\n",
    "        \"\"\"\n",
    "        Create a new LLAgent\n",
    "        \"\"\"\n",
    "    \n",
    "    def get_action(state):\n",
    "        \"\"\"\n",
    "        Return an optimal action based on the state\n",
    "        \"\"\"\n",
    "    \n",
    "    def train(history):\n",
    "        \"\"\"\n",
    "        Based on new history data, train the model\n",
    "        \"\"\"\n",
    "    \n",
    "    # HELPER METHODS\n",
    "    def create_q_function(self, \n",
    "                         input_size: tuple, \n",
    "                         output_size: tuple,\n",
    "                         num_layers: int = 3,\n",
    "                         layer_sizes: list[int] = [64, 32, 16],\n",
    "                         activation: str = \"relu\") -> keras.Model:\n",
    "        \"\"\"\n",
    "        Create a neural net to represent the q-function\n",
    "        \n",
    "        Params:\n",
    "        input_size: tuple\n",
    "            the size/dimensions of the function input (should be the shape of the observation space)\n",
    "        output_size: tuple\n",
    "            the size/dimensions of the function output (should be the shape of the action space)\n",
    "        num_layers: int\n",
    "            the number of hidden layers in the neural network\n",
    "        layer_sizes: list[int]\n",
    "            the sizes of each hidden layer: [hidden layer 1 size, hiddden layer 2 size...hidden layer -num-layyers- size]\n",
    "        activation: str\n",
    "            the activation function of the neural network\n",
    "        \"\"\"\n",
    "        # Assertions\n",
    "        assert num_layers == len(layer_sizes), f\"Number of layers must be the same as the length of layer sizes: num: {num_layers} != sizes: {len(layer_sizes)}\"\n",
    "        \n",
    "        # Build Neural Net\n",
    "        inputs = layers.Input(shape=input_size) \n",
    "        layer = inputs\n",
    "        for layer_num in range(len(layer_sizes)):\n",
    "            layer = layers.Dense(layer_sizes[layer_num], activation = \"relu\")(layer)\n",
    "        output = layers.Dense(output_size, activation = \"softmax\")(layer)\n",
    "        \n",
    "        return keras.Model(inputs = inputs, outputs = output)\n",
    "        \n",
    "        \n",
    "        \n",
    "    \n",
    "        "
   ]
  },
  {
   "cell_type": "code",
   "execution_count": 38,
   "id": "5c07a3e5-3b4a-4198-8ca8-4f3eaa674083",
   "metadata": {},
   "outputs": [
    {
     "name": "stdout",
     "output_type": "stream",
     "text": [
      "Model: \"model_2\"\n",
      "_________________________________________________________________\n",
      " Layer (type)                Output Shape              Param #   \n",
      "=================================================================\n",
      " input_5 (InputLayer)        [(None, 4)]               0         \n",
      "                                                                 \n",
      " dense_8 (Dense)             (None, 64)                320       \n",
      "                                                                 \n",
      " dense_9 (Dense)             (None, 32)                2080      \n",
      "                                                                 \n",
      " dense_10 (Dense)            (None, 16)                528       \n",
      "                                                                 \n",
      " dense_11 (Dense)            (None, 5)                 85        \n",
      "                                                                 \n",
      "=================================================================\n",
      "Total params: 3,013\n",
      "Trainable params: 3,013\n",
      "Non-trainable params: 0\n",
      "_________________________________________________________________\n"
     ]
    }
   ],
   "source": [
    "a = LLAgent()\n",
    "m = a.create_q_function(4, 5)\n",
    "m.summary()"
   ]
  },
  {
   "cell_type": "code",
   "execution_count": null,
   "id": "b66f4863-dbd7-498f-aac2-a23abed81d78",
   "metadata": {},
   "outputs": [],
   "source": []
  }
 ],
 "metadata": {
  "kernelspec": {
   "display_name": "Python 3 (ipykernel)",
   "language": "python",
   "name": "python3"
  },
  "language_info": {
   "codemirror_mode": {
    "name": "ipython",
    "version": 3
   },
   "file_extension": ".py",
   "mimetype": "text/x-python",
   "name": "python",
   "nbconvert_exporter": "python",
   "pygments_lexer": "ipython3",
   "version": "3.10.8"
  }
 },
 "nbformat": 4,
 "nbformat_minor": 5
}
